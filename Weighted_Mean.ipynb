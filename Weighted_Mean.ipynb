{
 "cells": [
  {
   "cell_type": "code",
   "execution_count": 1,
   "metadata": {},
   "outputs": [],
   "source": [
    "import math\n",
    "import os\n",
    "import random\n",
    "import re\n",
    "import sys"
   ]
  },
  {
   "cell_type": "code",
   "execution_count": 7,
   "metadata": {},
   "outputs": [],
   "source": [
    "def weightedMean(X, W):\n",
    "    n=len(X)\n",
    "    XW=[]\n",
    "    for i in range(n):\n",
    "          XW.append(X[i]*W[i])\n",
    "    Sum_XW=sum(XW)\n",
    "    #print(Sum_XW)\n",
    "    print(round(Sum_XW/sum(W),1))"
   ]
  },
  {
   "cell_type": "code",
   "execution_count": 9,
   "metadata": {},
   "outputs": [
    {
     "name": "stdout",
     "output_type": "stream",
     "text": [
      "5\n",
      "10 40 30 50 20\n",
      "1 2 3 4 5\n",
      "[10, 40, 30, 50, 20] [1, 2, 3, 4, 5]\n",
      "480\n",
      "32.0\n"
     ]
    }
   ],
   "source": [
    "if __name__ == '__main__':\n",
    "    n = int(input().strip())\n",
    "\n",
    "    vals = list(map(int, input().rstrip().split()))\n",
    "    \n",
    "\n",
    "    weights = list(map(int, input().rstrip().split()))\n",
    "\n",
    "    print(vals, weights)\n",
    "    weightedMean(vals,weights)\n"
   ]
  },
  {
   "cell_type": "code",
   "execution_count": null,
   "metadata": {},
   "outputs": [],
   "source": []
  }
 ],
 "metadata": {
  "kernelspec": {
   "display_name": "Python 3",
   "language": "python",
   "name": "python3"
  },
  "language_info": {
   "codemirror_mode": {
    "name": "ipython",
    "version": 3
   },
   "file_extension": ".py",
   "mimetype": "text/x-python",
   "name": "python",
   "nbconvert_exporter": "python",
   "pygments_lexer": "ipython3",
   "version": "3.7.6"
  }
 },
 "nbformat": 4,
 "nbformat_minor": 4
}
