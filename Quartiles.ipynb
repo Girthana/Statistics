{
 "cells": [
  {
   "cell_type": "code",
   "execution_count": 24,
   "metadata": {},
   "outputs": [
    {
     "name": "stdout",
     "output_type": "stream",
     "text": [
      "11\n",
      "6 7 15 36 39 40 41 42 43 47 49\n",
      "[15, 40, 43] [Q1,Q2,Q3]\n"
     ]
    }
   ],
   "source": [
    "import math\n",
    "import os\n",
    "import random\n",
    "import re\n",
    "import sys\n",
    "\n",
    "#\n",
    "# Complete the 'quartiles' function below.\n",
    "#\n",
    "# The function is expected to return an INTEGER_ARRAY.\n",
    "# The function accepts INTEGER_ARRAY arr as parameter.\n",
    "#\n",
    "\n",
    "\n",
    "\n",
    "if __name__ == '__main__':\n",
    "    #fptr = open(os.environ['OUTPUT_PATH'], 'w')\n",
    "\n",
    "    n = int(input().strip())\n",
    "\n",
    "    data = list(map(int, input().rstrip().split()))\n",
    "\n",
    "    res=quartiles(data)\n",
    "    print (res, \"[Q1,Q2,Q3]\")\n",
    "\n",
    "    #fptr.write('\\n'.join(map(str, res)))\n",
    "    #fptr.write('\\n')\n",
    "\n",
    "    #fptr.close()"
   ]
  },
  {
   "cell_type": "code",
   "execution_count": 20,
   "metadata": {},
   "outputs": [],
   "source": [
    "def quartiles(arr):\n",
    "    # Write your code here\n",
    "    n=len(arr)  #compute the length of the array\n",
    "    arr.sort()  #sort the array\n",
    "    #print(arr)\n",
    "# Split the quartiles into half (lh-lower half, uh-upper half)\n",
    "#If the number of elements is odd, median of lh - Q1, middle element - Q2, median of uh - Q3\n",
    "# If the #elements is even, median of lh- Q1, median(entire array)- Q2, median of uh-Q3\n",
    "    qr=[]\n",
    "    li=int(n/2)\n",
    "    lh=arr[:li]\n",
    "    #print(lh)\n",
    "    median_lh=int(median_x(lh))\n",
    "    qr.append(median_lh)\n",
    "    if(n%2!=0):\n",
    "        middle=arr[li]\n",
    "        qr.append(middle)\n",
    "        uh=arr[li+1:]\n",
    "    else:\n",
    "        median_e=int(median_x(arr))\n",
    "        qr.append(median_e)\n",
    "        uh=arr[li:]\n",
    "   # print(uh)\n",
    "    median_uh=int(median_x(uh))\n",
    "    qr.append(median_uh)\n",
    "    return qr"
   ]
  },
  {
   "cell_type": "code",
   "execution_count": 23,
   "metadata": {},
   "outputs": [],
   "source": [
    "def median_x(X):\n",
    "    X.sort()\n",
    "    #print(X)\n",
    "    N=len(X)\n",
    "    if(N%2 ==0):\n",
    "        middle_index=int(N/2)\n",
    "        Median_X=round((X[middle_index]+X[middle_index-1])/2,1)\n",
    "    else:\n",
    "        middle_index=int((N+1)/2)-1\n",
    "        #print (middle_index,X)\n",
    "        Median_X=round(X[middle_index],1)\n",
    "    return Median_X"
   ]
  },
  {
   "cell_type": "code",
   "execution_count": null,
   "metadata": {},
   "outputs": [],
   "source": []
  }
 ],
 "metadata": {
  "kernelspec": {
   "display_name": "Python 3",
   "language": "python",
   "name": "python3"
  },
  "language_info": {
   "codemirror_mode": {
    "name": "ipython",
    "version": 3
   },
   "file_extension": ".py",
   "mimetype": "text/x-python",
   "name": "python",
   "nbconvert_exporter": "python",
   "pygments_lexer": "ipython3",
   "version": "3.7.6"
  }
 },
 "nbformat": 4,
 "nbformat_minor": 4
}
