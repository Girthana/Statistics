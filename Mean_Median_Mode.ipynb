{
 "cells": [
  {
   "cell_type": "markdown",
   "metadata": {},
   "source": [
    "Mean, Median, Mode computation"
   ]
  },
  {
   "cell_type": "code",
   "execution_count": 10,
   "metadata": {},
   "outputs": [
    {
     "name": "stdout",
     "output_type": "stream",
     "text": [
      "Enter Size of the array in the range 10 and 2500\n",
      "10\n",
      "Enter values in space separated format:64630 11735 14216 99233 14470 4978 73429 38120 51135 67060\n",
      "True 10 10\n",
      "[64630, 11735, 14216, 99233, 14470, 4978, 73429, 38120, 51135, 67060]\n",
      "43900.6\n",
      "[4978, 11735, 14216, 14470, 38120, 51135, 64630, 67060, 73429, 99233]\n",
      "44627.5\n",
      "{4978: 1, 11735: 1, 14216: 1, 14470: 1, 38120: 1, 51135: 1, 64630: 1, 67060: 1, 73429: 1, 99233: 1}\n",
      "4978\n"
     ]
    }
   ],
   "source": [
    "print (\"Enter Size of the array in the range 10 and 2500\")\n",
    "N=int(input())\n",
    "while(N not in range(9,2501)):\n",
    "    print(\"Enter size within the range of 10 to 2500\")\n",
    "    N=int(input())\n",
    "X=read_values(N)\n",
    "Mean_X=mean_x(X)\n",
    "Median_x=median_x(X)\n",
    "Mode_x=Mode_X(X)"
   ]
  },
  {
   "cell_type": "code",
   "execution_count": 1,
   "metadata": {
    "scrolled": true
   },
   "outputs": [],
   "source": [
    "def read_values(N):\n",
    "    st=True\n",
    "    while st:\n",
    "        temp=input(\"Enter values in space separated format:\")\n",
    "        X=list(map(int,temp.split()))\n",
    "        res=all(x>=1 and x<=10**5 for x in X)\n",
    "        print(res,len(X),N)\n",
    "        if(not res):\n",
    "            print(\"Values not in range\")\n",
    "        elif (len(X)!=N):\n",
    "            print(\"Less entries are made\")\n",
    "        else:\n",
    "            st=False\n",
    "    print (X)\n",
    "    return X"
   ]
  },
  {
   "cell_type": "code",
   "execution_count": 2,
   "metadata": {},
   "outputs": [],
   "source": [
    "def mean_x(X):\n",
    "    N=len(X)\n",
    "    Sum_X=sum(X)\n",
    "    Mean_X=round(Sum_X/N,1)\n",
    "    print(Mean_X,"Mean")\n",
    "    return Mean_X"
   ]
  },
  {
   "cell_type": "code",
   "execution_count": 9,
   "metadata": {},
   "outputs": [],
   "source": [
    "def median_x(X):\n",
    "    X.sort()\n",
    "    print(X)\n",
    "#N=len(X)\n",
    "    if(N%2 ==0):\n",
    "        middle_index=int(N/2)\n",
    "        Median_X=round((X[middle_index]+X[middle_index-1])/2,1)\n",
    "    else:\n",
    "        middle_index=int((N+1)/2)-1\n",
    "        Median_X=round(X[middle_index],1)\n",
    "    print(Median_X,"Median")\n",
    "    return Median_X"
   ]
  },
  {
   "cell_type": "code",
   "execution_count": 6,
   "metadata": {},
   "outputs": [],
   "source": [
    "def Mode_X(X):\n",
    "    X_dict=dict()\n",
    "    for x in X:\n",
    "        if (x in X_dict):\n",
    "            x_val=X_dict[x]+1\n",
    "            X_dict[x]= x_val\n",
    "        else:\n",
    "            X_dict[x]=1\n",
    "    print(X_dict)\n",
    "    list_keys=list(X_dict.keys())\n",
    "    list_values=list(X_dict.values())\n",
    "    index=list_values.index(max(list_values))\n",
    "    mode_X=list_keys[index]\n",
    "    print(mode_X,"Mode")\n",
    "    return mode_X\n"
   ]
  },
  {
   "cell_type": "code",
   "execution_count": null,
   "metadata": {},
   "outputs": [],
   "source": []
  }
 ],
 "metadata": {
  "kernelspec": {
   "display_name": "Python 3",
   "language": "python",
   "name": "python3"
  },
  "language_info": {
   "codemirror_mode": {
    "name": "ipython",
    "version": 3
   },
   "file_extension": ".py",
   "mimetype": "text/x-python",
   "name": "python",
   "nbconvert_exporter": "python",
   "pygments_lexer": "ipython3",
   "version": "3.7.6"
  }
 },
 "nbformat": 4,
 "nbformat_minor": 4
}
